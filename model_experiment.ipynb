{
 "metadata": {
  "language_info": {
   "codemirror_mode": {
    "name": "ipython",
    "version": 3
   },
   "file_extension": ".py",
   "mimetype": "text/x-python",
   "name": "python",
   "nbconvert_exporter": "python",
   "pygments_lexer": "ipython3",
   "version": "3.7.9"
  },
  "orig_nbformat": 2,
  "kernelspec": {
   "name": "python3",
   "display_name": "Python 3",
   "language": "python"
  }
 },
 "nbformat": 4,
 "nbformat_minor": 2,
 "cells": [
  {
   "cell_type": "code",
   "execution_count": 1,
   "metadata": {},
   "outputs": [],
   "source": [
    "%load_ext autoreload\n",
    "%autoreload 2"
   ]
  },
  {
   "cell_type": "code",
   "execution_count": 7,
   "metadata": {},
   "outputs": [],
   "source": [
    "import os\n",
    "import torch\n",
    "import torch.nn as nn\n",
    "import torchvision\n",
    "from torchsummary import summary\n",
    "from RecursiveUNet3D import UNet3D\n",
    "from Seg3D import Seg3D\n",
    "import pandas as pd\n",
    "import numpy as np\n",
    "from dataloader import LungDataset_3D_high_res, slab_loader\n",
    "from torch.utils.data import Dataset, DataLoader\n",
    "from medpy.io import load,save\n",
    "import scipy.ndimage"
   ]
  },
  {
   "cell_type": "code",
   "execution_count": 3,
   "metadata": {},
   "outputs": [],
   "source": [
    "data_path = '/data4/inqlee0704'\n",
    "in_file = 'ENV18PM_ProjSubjList_cleaned_IN.in'\n",
    "df_subjlist = pd.read_csv(os.path.join(data_path,in_file),sep='\\t')\n",
    "df_subjlist = df_subjlist[:2]"
   ]
  },
  {
   "cell_type": "code",
   "execution_count": 4,
   "metadata": {},
   "outputs": [
    {
     "output_type": "stream",
     "name": "stdout",
     "text": [
      "Loading Data\n"
     ]
    }
   ],
   "source": [
    "slabs = slab_loader(df_subjlist)"
   ]
  },
  {
   "cell_type": "code",
   "execution_count": 5,
   "metadata": {},
   "outputs": [],
   "source": [
    "train_ds = LungDataset_3D_high_res(df_subjlist,slabs)"
   ]
  },
  {
   "cell_type": "code",
   "execution_count": 8,
   "metadata": {},
   "outputs": [],
   "source": [
    "train_loader = DataLoader(train_ds,\n",
    "                                batch_size=2,\n",
    "                                shuffle=False,\n",
    "                                num_workers=0)"
   ]
  },
  {
   "cell_type": "code",
   "execution_count": 11,
   "metadata": {},
   "outputs": [
    {
     "output_type": "stream",
     "name": "stdout",
     "text": [
      "torch.Size([2, 1, 256, 256, 32])\ntorch.Size([2, 1, 256, 256, 32])\n"
     ]
    }
   ],
   "source": [
    "for batch in train_loader:\n",
    "    img = batch['image']\n",
    "    mask = batch['seg']\n",
    "    print(img.shape)\n",
    "    print(mask.shape)\n",
    "    \n",
    "    "
   ]
  },
  {
   "cell_type": "code",
   "execution_count": 10,
   "metadata": {},
   "outputs": [
    {
     "output_type": "stream",
     "name": "stdout",
     "text": [
      "torch.Size([2, 1, 256, 256, 32])\ntorch.Size([2, 1, 256, 256, 32])\n"
     ]
    }
   ],
   "source": [
    "print(img.shape)\n",
    "print(mask.shape)"
   ]
  },
  {
   "cell_type": "code",
   "execution_count": 124,
   "metadata": {},
   "outputs": [],
   "source": [
    "batch = next(iter(train_ds))"
   ]
  },
  {
   "cell_type": "code",
   "execution_count": 60,
   "metadata": {},
   "outputs": [],
   "source": [
    "train_ds = LungDataset_3D_high_res(df_subjlist)"
   ]
  },
  {
   "cell_type": "code",
   "execution_count": 61,
   "metadata": {},
   "outputs": [],
   "source": [
    "batch = next(iter(train_ds))"
   ]
  },
  {
   "cell_type": "code",
   "execution_count": 62,
   "metadata": {},
   "outputs": [
    {
     "output_type": "execute_result",
     "data": {
      "text/plain": [
       "torch.Size([1, 256, 256, 362])"
      ]
     },
     "metadata": {},
     "execution_count": 62
    }
   ],
   "source": [
    "batch['image'].shape"
   ]
  },
  {
   "cell_type": "code",
   "execution_count": 51,
   "metadata": {},
   "outputs": [],
   "source": [
    "input = torch.ones(1,1,64,64,64)\n",
    "Seg = Seg3D()\n"
   ]
  },
  {
   "cell_type": "code",
   "execution_count": 63,
   "metadata": {},
   "outputs": [
    {
     "output_type": "stream",
     "name": "stdout",
     "text": [
      "----------------------------------------------------------------\n        Layer (type)               Output Shape         Param #\n================================================================\n            Conv3d-1     [-1, 32, 256, 256, 32]             896\n       BatchNorm3d-2     [-1, 32, 256, 256, 32]              64\n              ReLU-3     [-1, 32, 256, 256, 32]               0\n            Conv3d-4     [-1, 32, 256, 256, 32]          27,680\n       BatchNorm3d-5     [-1, 32, 256, 256, 32]              64\n              ReLU-6     [-1, 32, 256, 256, 32]               0\n            Conv3d-7      [-1, 1, 256, 256, 32]              33\n         MaxPool3d-8     [-1, 32, 128, 128, 16]               0\n            Conv3d-9     [-1, 64, 128, 128, 16]          55,360\n      BatchNorm3d-10     [-1, 64, 128, 128, 16]             128\n             ReLU-11     [-1, 64, 128, 128, 16]               0\n           Conv3d-12     [-1, 64, 128, 128, 16]         110,656\n      BatchNorm3d-13     [-1, 64, 128, 128, 16]             128\n             ReLU-14     [-1, 64, 128, 128, 16]               0\n           Conv3d-15      [-1, 1, 128, 128, 16]              65\n         Upsample-16      [-1, 1, 256, 256, 32]               0\n        MaxPool3d-17        [-1, 64, 64, 64, 8]               0\n           Conv3d-18       [-1, 128, 64, 64, 8]         221,312\n      BatchNorm3d-19       [-1, 128, 64, 64, 8]             256\n             ReLU-20       [-1, 128, 64, 64, 8]               0\n           Conv3d-21       [-1, 128, 64, 64, 8]         442,496\n      BatchNorm3d-22       [-1, 128, 64, 64, 8]             256\n             ReLU-23       [-1, 128, 64, 64, 8]               0\n           Conv3d-24         [-1, 1, 64, 64, 8]             129\n         Upsample-25      [-1, 1, 256, 256, 32]               0\n        MaxPool3d-26       [-1, 128, 32, 32, 4]               0\n           Conv3d-27       [-1, 256, 32, 32, 4]         884,992\n      BatchNorm3d-28       [-1, 256, 32, 32, 4]             512\n             ReLU-29       [-1, 256, 32, 32, 4]               0\n           Conv3d-30       [-1, 256, 32, 32, 4]       1,769,728\n      BatchNorm3d-31       [-1, 256, 32, 32, 4]             512\n             ReLU-32       [-1, 256, 32, 32, 4]               0\n           Conv3d-33         [-1, 1, 32, 32, 4]             257\n         Upsample-34      [-1, 1, 256, 256, 32]               0\n           Conv3d-35      [-1, 8, 256, 256, 32]             872\n      BatchNorm3d-36      [-1, 8, 256, 256, 32]              16\n             ReLU-37      [-1, 8, 256, 256, 32]               0\n           Conv3d-38      [-1, 2, 256, 256, 32]             434\n================================================================\nTotal params: 3,516,846\nTrainable params: 3,516,846\nNon-trainable params: 0\n----------------------------------------------------------------\nInput size (MB): 8.00\nForward/backward pass size (MB): 4646.28\nParams size (MB): 13.42\nEstimated Total Size (MB): 4667.70\n----------------------------------------------------------------\n"
     ]
    }
   ],
   "source": [
    "summary(Seg.to('cuda'),(1,512,512,32))"
   ]
  },
  {
   "cell_type": "code",
   "execution_count": 12,
   "metadata": {},
   "outputs": [
    {
     "output_type": "stream",
     "name": "stdout",
     "text": [
      "----------------------------------------------------------------\n        Layer (type)               Output Shape         Param #\n================================================================\n            Conv3d-1    [-1, 64, 128, 128, 128]           1,792\n    InstanceNorm3d-2    [-1, 64, 128, 128, 128]               0\n         LeakyReLU-3    [-1, 64, 128, 128, 128]               0\n            Conv3d-4    [-1, 64, 128, 128, 128]         110,656\n    InstanceNorm3d-5    [-1, 64, 128, 128, 128]               0\n         LeakyReLU-6    [-1, 64, 128, 128, 128]               0\n         MaxPool3d-7       [-1, 64, 64, 64, 64]               0\n            Conv3d-8      [-1, 128, 64, 64, 64]         221,312\n    InstanceNorm3d-9      [-1, 128, 64, 64, 64]               0\n        LeakyReLU-10      [-1, 128, 64, 64, 64]               0\n           Conv3d-11      [-1, 128, 64, 64, 64]         442,496\n   InstanceNorm3d-12      [-1, 128, 64, 64, 64]               0\n        LeakyReLU-13      [-1, 128, 64, 64, 64]               0\n        MaxPool3d-14      [-1, 128, 32, 32, 32]               0\n           Conv3d-15      [-1, 256, 32, 32, 32]         884,992\n   InstanceNorm3d-16      [-1, 256, 32, 32, 32]               0\n        LeakyReLU-17      [-1, 256, 32, 32, 32]               0\n           Conv3d-18      [-1, 256, 32, 32, 32]       1,769,728\n   InstanceNorm3d-19      [-1, 256, 32, 32, 32]               0\n        LeakyReLU-20      [-1, 256, 32, 32, 32]               0\n        MaxPool3d-21      [-1, 256, 16, 16, 16]               0\n           Conv3d-22      [-1, 512, 16, 16, 16]       3,539,456\n   InstanceNorm3d-23      [-1, 512, 16, 16, 16]               0\n        LeakyReLU-24      [-1, 512, 16, 16, 16]               0\n           Conv3d-25      [-1, 512, 16, 16, 16]       7,078,400\n   InstanceNorm3d-26      [-1, 512, 16, 16, 16]               0\n        LeakyReLU-27      [-1, 512, 16, 16, 16]               0\n  ConvTranspose3d-28      [-1, 256, 32, 32, 32]       1,048,832\nUnetSkipConnectionBlock-29      [-1, 512, 32, 32, 32]               0\n           Conv3d-30      [-1, 256, 32, 32, 32]       3,539,200\n        LeakyReLU-31      [-1, 256, 32, 32, 32]               0\n           Conv3d-32      [-1, 256, 32, 32, 32]       1,769,728\n        LeakyReLU-33      [-1, 256, 32, 32, 32]               0\n  ConvTranspose3d-34      [-1, 128, 64, 64, 64]         262,272\nUnetSkipConnectionBlock-35      [-1, 256, 64, 64, 64]               0\n           Conv3d-36      [-1, 128, 64, 64, 64]         884,864\n        LeakyReLU-37      [-1, 128, 64, 64, 64]               0\n           Conv3d-38      [-1, 128, 64, 64, 64]         442,496\n        LeakyReLU-39      [-1, 128, 64, 64, 64]               0\n  ConvTranspose3d-40    [-1, 64, 128, 128, 128]          65,600\nUnetSkipConnectionBlock-41   [-1, 128, 128, 128, 128]               0\n           Conv3d-42    [-1, 64, 128, 128, 128]         221,248\n        LeakyReLU-43    [-1, 64, 128, 128, 128]               0\n           Conv3d-44    [-1, 64, 128, 128, 128]         110,656\n        LeakyReLU-45    [-1, 64, 128, 128, 128]               0\n           Conv3d-46     [-1, 1, 128, 128, 128]              65\nUnetSkipConnectionBlock-47     [-1, 1, 128, 128, 128]               0\n================================================================\nTotal params: 22,393,793\nTrainable params: 22,393,793\nNon-trainable params: 0\n----------------------------------------------------------------\nInput size (MB): 8.00\nForward/backward pass size (MB): 17768.00\nParams size (MB): 85.43\nEstimated Total Size (MB): 17861.43\n----------------------------------------------------------------\n"
     ]
    }
   ],
   "source": [
    "UNet = UNet3D(num_classes=1,num_downs=3)\n",
    "summary(UNet.to('cuda'),(1,128,128,128))"
   ]
  },
  {
   "cell_type": "code",
   "execution_count": 8,
   "metadata": {},
   "outputs": [
    {
     "output_type": "execute_result",
     "data": {
      "text/plain": [
       "torch.Size([1, 2, 64, 64, 64])"
      ]
     },
     "metadata": {},
     "execution_count": 8
    }
   ],
   "source": [
    "out_seg = Seg(input.to('cuda'))\n",
    "out_seg.shape"
   ]
  },
  {
   "cell_type": "code",
   "execution_count": 9,
   "metadata": {},
   "outputs": [
    {
     "output_type": "execute_result",
     "data": {
      "text/plain": [
       "torch.Size([1, 1, 64, 64, 64])"
      ]
     },
     "metadata": {},
     "execution_count": 9
    }
   ],
   "source": [
    "out_UNet = UNet(input.to('cuda'))\n",
    "out_UNet.shape"
   ]
  },
  {
   "cell_type": "code",
   "execution_count": null,
   "metadata": {},
   "outputs": [],
   "source": []
  }
 ]
}