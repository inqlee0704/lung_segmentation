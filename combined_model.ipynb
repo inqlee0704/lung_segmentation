{
 "metadata": {
  "language_info": {
   "codemirror_mode": {
    "name": "ipython",
    "version": 3
   },
   "file_extension": ".py",
   "mimetype": "text/x-python",
   "name": "python",
   "nbconvert_exporter": "python",
   "pygments_lexer": "ipython3",
   "version": 3
  },
  "orig_nbformat": 2
 },
 "nbformat": 4,
 "nbformat_minor": 2,
 "cells": [
  {
   "cell_type": "code",
   "execution_count": null,
   "metadata": {},
   "outputs": [],
   "source": [
    "import os\n",
    "from dotenv import load_dotenv\n",
    "import time\n",
    "import random\n",
    "import wandb\n",
    "\n",
    "from RecursiveUNet3D import UNet3D\n",
    "from Seg3D import Seg3D\n",
    "from medpy.io import load\n",
    "\n",
    "from engine import Segmentor\n",
    "from dataloader import LungDataset_3D_low_res\n",
    "from torch.utils.data import Dataset, DataLoader\n",
    "\n",
    "import numpy as np\n",
    "import pandas as pd\n",
    "\n",
    "from torch import nn\n",
    "from torch.cuda import amp\n",
    "import torch\n",
    "from torchsummary import summary\n",
    "from sklearn import model_selection\n",
    "\n",
    "import SimpleITK as sitk\n",
    "sitk.ProcessObject_SetGlobalWarningDisplay(False)"
   ]
  }
 ]
}