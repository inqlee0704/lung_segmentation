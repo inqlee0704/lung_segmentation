{
 "metadata": {
  "language_info": {
   "codemirror_mode": {
    "name": "ipython",
    "version": 3
   },
   "file_extension": ".py",
   "mimetype": "text/x-python",
   "name": "python",
   "nbconvert_exporter": "python",
   "pygments_lexer": "ipython3",
   "version": "3.7.9"
  },
  "orig_nbformat": 2,
  "kernelspec": {
   "name": "python3",
   "display_name": "Python 3",
   "language": "python"
  }
 },
 "nbformat": 4,
 "nbformat_minor": 2,
 "cells": [
  {
   "cell_type": "code",
   "execution_count": 66,
   "metadata": {},
   "outputs": [
    {
     "output_type": "stream",
     "name": "stdout",
     "text": [
      "The autoreload extension is already loaded. To reload it, use:\n  %reload_ext autoreload\n"
     ]
    }
   ],
   "source": [
    "%load_ext autoreload\n",
    "%autoreload 2\n",
    "\n",
    "import os\n",
    "import torch\n",
    "import torch.nn as nn\n",
    "from dataloader import LungDataset_3D\n",
    "from dotenv import load_dotenv\n",
    "from torch.utils.data import Dataset, DataLoader\n",
    "import numpy as np\n",
    "import pandas as pd\n",
    "from sklearn import model_selection"
   ]
  },
  {
   "cell_type": "code",
   "execution_count": 59,
   "metadata": {},
   "outputs": [],
   "source": [
    "data_path = '/data4/inqlee0704'\n",
    "in_path = os.path.join(data_path,'ENV18PM_ProjSubjList_cleaned_IN.in')\n",
    "df_subjlist = pd.read_csv(in_path,sep='\\t')\n",
    "# df_subjlist"
   ]
  },
  {
   "cell_type": "code",
   "execution_count": 60,
   "metadata": {},
   "outputs": [],
   "source": [
    "LungDataset = LungDataset_3D(df_subjlist)\n",
    "batch = next(iter(LungDataset))"
   ]
  },
  {
   "cell_type": "code",
   "execution_count": 65,
   "metadata": {},
   "outputs": [],
   "source": [
    "n_case = 5\n",
    "df_train, df_valid = model_selection.train_test_split(\n",
    "        df_subjlist[:n_case],\n",
    "        test_size=0.2,\n",
    "        random_state=42,\n",
    "        stratify=None)\n",
    "df_train = df_train.reset_index(drop=True)\n",
    "df_valid = df_valid.reset_index(drop=True)"
   ]
  },
  {
   "cell_type": "code",
   "execution_count": 68,
   "metadata": {},
   "outputs": [],
   "source": [
    "train_ds = LungDataset_3D(df_train)\n",
    "valid_ds = LungDataset_3D(df_valid)\n",
    "train_loader = DataLoader(train_ds,\n",
    "                            batch_size=1,\n",
    "                            shuffle=False,\n",
    "                            num_workers=0)\n",
    "valid_loader = DataLoader(valid_ds,\n",
    "                            batch_size=1,\n",
    "                            shuffle=False,\n",
    "                            num_workers=0)"
   ]
  },
  {
   "cell_type": "code",
   "execution_count": null,
   "metadata": {},
   "outputs": [],
   "source": []
  }
 ]
}